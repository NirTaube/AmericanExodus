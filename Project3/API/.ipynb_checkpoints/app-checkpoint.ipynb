{
 "cells": [
  {
   "cell_type": "code",
   "execution_count": null,
   "id": "6a5f06fe",
   "metadata": {},
   "outputs": [],
   "source": [
    "from flask import Flask\n",
    "from csv import reader"
   ]
  },
  {
   "cell_type": "code",
   "execution_count": null,
   "id": "4afe017f",
   "metadata": {},
   "outputs": [],
   "source": [
    "from flask import Flask\n",
    "from csv import reader\n",
    "app = Flask(__name__)\n",
    "@app.route(\"/net_migration_by_year\")\n",
    "def net_migration_by_year():\n",
    "  country_name = request.args.get(\"country_name\")\n",
    "  year = request.args.get(\"year\")\n",
    "\n",
    "  with open(\"resources/net_migration.csv\", \"r\") as f:\n",
    "    reader = csv.reader(f)\n",
    "    total_net_migration = 0\n",
    "    for row in reader:\n",
    "      if row[0] == country_name and row[1] == year:\n",
    "        total_net_migration += int(row[2])\n",
    "\n",
    "    return jsonify({\"total_net_migration\": total_net_migration})\n",
    "\n",
    "@app.route(\"/total_net_migration_by_country\")\n",
    "def total_net_migration_by_country():\n",
    "  country_name = request.args.get(\"country_name\")\n",
    "\n",
    "  with open(\"resources/net_migration.csv\", \"r\") as f:\n",
    "    reader = csv.reader(f)\n",
    "    total_net_migration = 0\n",
    "    for row in reader:\n",
    "      if row[0] == country_name:\n",
    "        total_net_migration += int(row[2])\n",
    "\n",
    "    return jsonify({\"total_net_migration\": total_net_migration})\n",
    "\n",
    "@app.route(\"/net_migration_by_year_for_all_countries\")\n",
    "def net_migration_by_year_for_all_countries():\n",
    "  with open(\"resources/net_migration.csv\", \"r\") as f:\n",
    "    reader = csv.reader(f)\n",
    "    total_net_migration_by_year = {}\n",
    "    for row in reader:\n",
    "      if row[0] not in total_net_migration_by_year:\n",
    "        total_net_migration_by_year[row[0]] = 0\n",
    "      total_net_migration_by_year[row[0]] += int(row[2])\n",
    "\n",
    "    return jsonify({\"total_net_migration_by_year\": total_net_migration_by_year})\n",
    "\n",
    "@app.route(\"/net_migration_with_start_and_end_year_by_each_country\")\n",
    "def net_migration_with_start_and_end_year_by_each_country():\n",
    "  start_year = request.args.get(\"start_year\")\n",
    "  end_year = request.args.get(\"end_year\")\n",
    "\n",
    "  with open(\"resources/net_migration.csv\", \"r\") as f:\n",
    "    reader = csv.reader(f)\n",
    "    total_net_migration_by_country = {}\n",
    "    for row in reader:\n",
    "      if row[1] >= start_year and row[1] <= end_year:\n",
    "        if row[0] not in total_net_migration_by_country:\n",
    "          total_net_migration_by_country[row[0]] = 0\n",
    "        total_net_migration_by_country[row[0]] += int(row[2])\n",
    "\n",
    "    return jsonify({\"total_net_migration_by_country\": total_net_migration_by_country})\n",
    "\n",
    "if __name__ == \"__main__\":\n",
    "  app.run()"
   ]
  },
  {
   "cell_type": "code",
   "execution_count": null,
   "id": "b7e5b777",
   "metadata": {},
   "outputs": [],
   "source": []
  },
  {
   "cell_type": "code",
   "execution_count": null,
   "id": "3b2e289c",
   "metadata": {},
   "outputs": [],
   "source": []
  }
 ],
 "metadata": {
  "kernelspec": {
   "display_name": "Conda",
   "language": "python",
   "name": "anaconda"
  },
  "language_info": {
   "codemirror_mode": {
    "name": "ipython",
    "version": 3
   },
   "file_extension": ".py",
   "mimetype": "text/x-python",
   "name": "python",
   "nbconvert_exporter": "python",
   "pygments_lexer": "ipython3",
   "version": "3.9.16"
  }
 },
 "nbformat": 4,
 "nbformat_minor": 5
}
